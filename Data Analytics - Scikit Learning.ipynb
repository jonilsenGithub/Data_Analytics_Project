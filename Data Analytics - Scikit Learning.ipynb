{
 "cells": [
  {
   "cell_type": "code",
   "execution_count": 32,
   "metadata": {},
   "outputs": [],
   "source": [
    "import pandas as pd\n",
    "pd.options.mode.chained_assignment = None\n",
    "\n",
    "import numpy as np\n",
    "import random"
   ]
  },
  {
   "cell_type": "code",
   "execution_count": 33,
   "metadata": {},
   "outputs": [],
   "source": [
    "oldDf = pd.read_csv('data.csv').sample(n=150000)\n",
    "oldDf = oldDf.dropna(axis=0, how='any')\n",
    "df = oldDf[['Sex', 'Equipment', 'Age', 'BodyweightKg', 'TotalKg']]"
   ]
  },
  {
   "cell_type": "code",
   "execution_count": 34,
   "metadata": {},
   "outputs": [],
   "source": [
    "sex = {'M': 1, 'F': 2, 'Mx': 3}\n",
    "equip = {'Wraps': 1, 'Raw': 0, 'Single-ply': 1, 'Multi-ply': 1, 'Straps': 1}\n",
    "\n",
    "df['Sex'] = df['Sex'].map(sex)\n",
    "df['Equipment'] = df['Equipment'].map(equip)\n"
   ]
  },
  {
   "cell_type": "code",
   "execution_count": 35,
   "metadata": {},
   "outputs": [
    {
     "data": {
      "text/html": [
       "<div>\n",
       "<style scoped>\n",
       "    .dataframe tbody tr th:only-of-type {\n",
       "        vertical-align: middle;\n",
       "    }\n",
       "\n",
       "    .dataframe tbody tr th {\n",
       "        vertical-align: top;\n",
       "    }\n",
       "\n",
       "    .dataframe thead th {\n",
       "        text-align: right;\n",
       "    }\n",
       "</style>\n",
       "<table border=\"1\" class=\"dataframe\">\n",
       "  <thead>\n",
       "    <tr style=\"text-align: right;\">\n",
       "      <th></th>\n",
       "      <th>Sex</th>\n",
       "      <th>Equipment</th>\n",
       "      <th>Age</th>\n",
       "      <th>BodyweightKg</th>\n",
       "      <th>TotalKg</th>\n",
       "    </tr>\n",
       "  </thead>\n",
       "  <tbody>\n",
       "    <tr>\n",
       "      <td>247986</td>\n",
       "      <td>2</td>\n",
       "      <td>0</td>\n",
       "      <td>29.5</td>\n",
       "      <td>80.10</td>\n",
       "      <td>300.00</td>\n",
       "    </tr>\n",
       "    <tr>\n",
       "      <td>568733</td>\n",
       "      <td>1</td>\n",
       "      <td>0</td>\n",
       "      <td>28.5</td>\n",
       "      <td>105.13</td>\n",
       "      <td>290.00</td>\n",
       "    </tr>\n",
       "    <tr>\n",
       "      <td>641614</td>\n",
       "      <td>1</td>\n",
       "      <td>1</td>\n",
       "      <td>27.5</td>\n",
       "      <td>108.86</td>\n",
       "      <td>592.48</td>\n",
       "    </tr>\n",
       "    <tr>\n",
       "      <td>29332</td>\n",
       "      <td>1</td>\n",
       "      <td>1</td>\n",
       "      <td>18.5</td>\n",
       "      <td>70.80</td>\n",
       "      <td>535.00</td>\n",
       "    </tr>\n",
       "    <tr>\n",
       "      <td>451113</td>\n",
       "      <td>1</td>\n",
       "      <td>1</td>\n",
       "      <td>20.5</td>\n",
       "      <td>93.00</td>\n",
       "      <td>545.00</td>\n",
       "    </tr>\n",
       "    <tr>\n",
       "      <td>...</td>\n",
       "      <td>...</td>\n",
       "      <td>...</td>\n",
       "      <td>...</td>\n",
       "      <td>...</td>\n",
       "      <td>...</td>\n",
       "    </tr>\n",
       "    <tr>\n",
       "      <td>133936</td>\n",
       "      <td>1</td>\n",
       "      <td>1</td>\n",
       "      <td>32.5</td>\n",
       "      <td>82.50</td>\n",
       "      <td>617.50</td>\n",
       "    </tr>\n",
       "    <tr>\n",
       "      <td>41912</td>\n",
       "      <td>1</td>\n",
       "      <td>1</td>\n",
       "      <td>36.0</td>\n",
       "      <td>94.70</td>\n",
       "      <td>335.00</td>\n",
       "    </tr>\n",
       "    <tr>\n",
       "      <td>134334</td>\n",
       "      <td>1</td>\n",
       "      <td>1</td>\n",
       "      <td>54.5</td>\n",
       "      <td>110.53</td>\n",
       "      <td>657.50</td>\n",
       "    </tr>\n",
       "    <tr>\n",
       "      <td>631901</td>\n",
       "      <td>1</td>\n",
       "      <td>1</td>\n",
       "      <td>22.5</td>\n",
       "      <td>73.80</td>\n",
       "      <td>615.00</td>\n",
       "    </tr>\n",
       "    <tr>\n",
       "      <td>258943</td>\n",
       "      <td>1</td>\n",
       "      <td>0</td>\n",
       "      <td>21.5</td>\n",
       "      <td>100.70</td>\n",
       "      <td>570.00</td>\n",
       "    </tr>\n",
       "  </tbody>\n",
       "</table>\n",
       "<p>91388 rows × 5 columns</p>\n",
       "</div>"
      ],
      "text/plain": [
       "        Sex  Equipment   Age  BodyweightKg  TotalKg\n",
       "247986    2          0  29.5         80.10   300.00\n",
       "568733    1          0  28.5        105.13   290.00\n",
       "641614    1          1  27.5        108.86   592.48\n",
       "29332     1          1  18.5         70.80   535.00\n",
       "451113    1          1  20.5         93.00   545.00\n",
       "...     ...        ...   ...           ...      ...\n",
       "133936    1          1  32.5         82.50   617.50\n",
       "41912     1          1  36.0         94.70   335.00\n",
       "134334    1          1  54.5        110.53   657.50\n",
       "631901    1          1  22.5         73.80   615.00\n",
       "258943    1          0  21.5        100.70   570.00\n",
       "\n",
       "[91388 rows x 5 columns]"
      ]
     },
     "execution_count": 35,
     "metadata": {},
     "output_type": "execute_result"
    }
   ],
   "source": [
    "# Checking dataframe\n",
    "df"
   ]
  },
  {
   "cell_type": "code",
   "execution_count": 36,
   "metadata": {},
   "outputs": [],
   "source": [
    "X = df.drop('Equipment',axis=1).values\n",
    "y = df['Equipment'].values"
   ]
  },
  {
   "cell_type": "code",
   "execution_count": 37,
   "metadata": {
    "scrolled": true
   },
   "outputs": [],
   "source": [
    "from sklearn.preprocessing import MinMaxScaler\n",
    "\n",
    "scaler = MinMaxScaler(feature_range=(0,1))\n",
    "df[['Sex', 'Equipment', 'Age', 'BodyweightKg', 'TotalKg']]= scaler.fit_transform(df[['Sex', \n",
    "    'Equipment', 'Age', 'BodyweightKg', 'TotalKg']])\n"
   ]
  },
  {
   "cell_type": "code",
   "execution_count": 38,
   "metadata": {},
   "outputs": [
    {
     "data": {
      "text/html": [
       "<div>\n",
       "<style scoped>\n",
       "    .dataframe tbody tr th:only-of-type {\n",
       "        vertical-align: middle;\n",
       "    }\n",
       "\n",
       "    .dataframe tbody tr th {\n",
       "        vertical-align: top;\n",
       "    }\n",
       "\n",
       "    .dataframe thead th {\n",
       "        text-align: right;\n",
       "    }\n",
       "</style>\n",
       "<table border=\"1\" class=\"dataframe\">\n",
       "  <thead>\n",
       "    <tr style=\"text-align: right;\">\n",
       "      <th></th>\n",
       "      <th>Sex</th>\n",
       "      <th>Equipment</th>\n",
       "      <th>Age</th>\n",
       "      <th>BodyweightKg</th>\n",
       "      <th>TotalKg</th>\n",
       "    </tr>\n",
       "  </thead>\n",
       "  <tbody>\n",
       "    <tr>\n",
       "      <td>247986</td>\n",
       "      <td>1.0</td>\n",
       "      <td>0.0</td>\n",
       "      <td>0.150327</td>\n",
       "      <td>0.240500</td>\n",
       "      <td>0.238193</td>\n",
       "    </tr>\n",
       "    <tr>\n",
       "      <td>568733</td>\n",
       "      <td>0.0</td>\n",
       "      <td>0.0</td>\n",
       "      <td>0.137255</td>\n",
       "      <td>0.360895</td>\n",
       "      <td>0.229979</td>\n",
       "    </tr>\n",
       "    <tr>\n",
       "      <td>641614</td>\n",
       "      <td>0.0</td>\n",
       "      <td>1.0</td>\n",
       "      <td>0.124183</td>\n",
       "      <td>0.378836</td>\n",
       "      <td>0.478423</td>\n",
       "    </tr>\n",
       "    <tr>\n",
       "      <td>29332</td>\n",
       "      <td>0.0</td>\n",
       "      <td>1.0</td>\n",
       "      <td>0.006536</td>\n",
       "      <td>0.195767</td>\n",
       "      <td>0.431211</td>\n",
       "    </tr>\n",
       "    <tr>\n",
       "      <td>451113</td>\n",
       "      <td>0.0</td>\n",
       "      <td>1.0</td>\n",
       "      <td>0.032680</td>\n",
       "      <td>0.302549</td>\n",
       "      <td>0.439425</td>\n",
       "    </tr>\n",
       "    <tr>\n",
       "      <td>...</td>\n",
       "      <td>...</td>\n",
       "      <td>...</td>\n",
       "      <td>...</td>\n",
       "      <td>...</td>\n",
       "      <td>...</td>\n",
       "    </tr>\n",
       "    <tr>\n",
       "      <td>133936</td>\n",
       "      <td>0.0</td>\n",
       "      <td>1.0</td>\n",
       "      <td>0.189542</td>\n",
       "      <td>0.252044</td>\n",
       "      <td>0.498973</td>\n",
       "    </tr>\n",
       "    <tr>\n",
       "      <td>41912</td>\n",
       "      <td>0.0</td>\n",
       "      <td>1.0</td>\n",
       "      <td>0.235294</td>\n",
       "      <td>0.310726</td>\n",
       "      <td>0.266940</td>\n",
       "    </tr>\n",
       "    <tr>\n",
       "      <td>134334</td>\n",
       "      <td>0.0</td>\n",
       "      <td>1.0</td>\n",
       "      <td>0.477124</td>\n",
       "      <td>0.386869</td>\n",
       "      <td>0.531828</td>\n",
       "    </tr>\n",
       "    <tr>\n",
       "      <td>631901</td>\n",
       "      <td>0.0</td>\n",
       "      <td>1.0</td>\n",
       "      <td>0.058824</td>\n",
       "      <td>0.210197</td>\n",
       "      <td>0.496920</td>\n",
       "    </tr>\n",
       "    <tr>\n",
       "      <td>258943</td>\n",
       "      <td>0.0</td>\n",
       "      <td>0.0</td>\n",
       "      <td>0.045752</td>\n",
       "      <td>0.339586</td>\n",
       "      <td>0.459959</td>\n",
       "    </tr>\n",
       "  </tbody>\n",
       "</table>\n",
       "<p>91388 rows × 5 columns</p>\n",
       "</div>"
      ],
      "text/plain": [
       "        Sex  Equipment       Age  BodyweightKg   TotalKg\n",
       "247986  1.0        0.0  0.150327      0.240500  0.238193\n",
       "568733  0.0        0.0  0.137255      0.360895  0.229979\n",
       "641614  0.0        1.0  0.124183      0.378836  0.478423\n",
       "29332   0.0        1.0  0.006536      0.195767  0.431211\n",
       "451113  0.0        1.0  0.032680      0.302549  0.439425\n",
       "...     ...        ...       ...           ...       ...\n",
       "133936  0.0        1.0  0.189542      0.252044  0.498973\n",
       "41912   0.0        1.0  0.235294      0.310726  0.266940\n",
       "134334  0.0        1.0  0.477124      0.386869  0.531828\n",
       "631901  0.0        1.0  0.058824      0.210197  0.496920\n",
       "258943  0.0        0.0  0.045752      0.339586  0.459959\n",
       "\n",
       "[91388 rows x 5 columns]"
      ]
     },
     "execution_count": 38,
     "metadata": {},
     "output_type": "execute_result"
    }
   ],
   "source": [
    "# Checking dataframe\n",
    "df"
   ]
  },
  {
   "cell_type": "code",
   "execution_count": 43,
   "metadata": {},
   "outputs": [],
   "source": [
    "from sklearn.model_selection import train_test_split\n",
    "\n",
    "X_train, X_test, y_train, y_test = train_test_split(X, y, test_size=0.1)"
   ]
  },
  {
   "cell_type": "code",
   "execution_count": 44,
   "metadata": {},
   "outputs": [],
   "source": [
    "from sklearn import svm\n",
    "clf = svm.SVC(gamma='auto')"
   ]
  },
  {
   "cell_type": "code",
   "execution_count": 45,
   "metadata": {},
   "outputs": [
    {
     "data": {
      "text/plain": [
       "SVC(C=1.0, cache_size=200, class_weight=None, coef0=0.0,\n",
       "    decision_function_shape='ovr', degree=3, gamma='auto', kernel='rbf',\n",
       "    max_iter=-1, probability=False, random_state=None, shrinking=True,\n",
       "    tol=0.001, verbose=False)"
      ]
     },
     "execution_count": 45,
     "metadata": {},
     "output_type": "execute_result"
    }
   ],
   "source": [
    "clf.fit(X_train, y_train)"
   ]
  },
  {
   "cell_type": "code",
   "execution_count": 46,
   "metadata": {},
   "outputs": [
    {
     "data": {
      "text/plain": [
       "0.6402232191705876"
      ]
     },
     "execution_count": 46,
     "metadata": {},
     "output_type": "execute_result"
    }
   ],
   "source": [
    "clf.score(X_test, y_test)"
   ]
  },
  {
   "cell_type": "code",
   "execution_count": null,
   "metadata": {},
   "outputs": [],
   "source": []
  }
 ],
 "metadata": {
  "kernelspec": {
   "display_name": "Python 3",
   "language": "python",
   "name": "python3"
  },
  "language_info": {
   "codemirror_mode": {
    "name": "ipython",
    "version": 3
   },
   "file_extension": ".py",
   "mimetype": "text/x-python",
   "name": "python",
   "nbconvert_exporter": "python",
   "pygments_lexer": "ipython3",
   "version": "3.7.4"
  }
 },
 "nbformat": 4,
 "nbformat_minor": 2
}
